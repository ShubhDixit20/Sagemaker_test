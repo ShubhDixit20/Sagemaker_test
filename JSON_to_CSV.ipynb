{
  "cells": [
    {
      "cell_type": "markdown",
      "metadata": {
        "id": "view-in-github",
        "colab_type": "text"
      },
      "source": [
        "<a href=\"https://colab.research.google.com/github/ShubhDixit20/Sagemaker_test/blob/main/JSON_to_CSV.ipynb\" target=\"_parent\"><img src=\"https://colab.research.google.com/assets/colab-badge.svg\" alt=\"Open In Colab\"/></a>"
      ]
    },
    {
      "cell_type": "code",
      "execution_count": 1,
      "metadata": {
        "colab": {
          "base_uri": "https://localhost:8080/"
        },
        "id": "MHdvm9UiwZvl",
        "outputId": "a5a73842-7168-4f52-ae90-5880fdc8ef81"
      },
      "outputs": [
        {
          "output_type": "stream",
          "name": "stdout",
          "text": [
            "Mounted at /content/drive/\n"
          ]
        }
      ],
      "source": [
        "from google.colab import drive\n",
        "drive.mount('/content/drive/')"
      ]
    },
    {
      "cell_type": "code",
      "execution_count": 2,
      "metadata": {
        "colab": {
          "base_uri": "https://localhost:8080/"
        },
        "id": "eoTbUlPhwcaA",
        "outputId": "9460616e-e522-4d77-d624-3000ea097bdb"
      },
      "outputs": [
        {
          "output_type": "stream",
          "name": "stdout",
          "text": [
            "\u001b[0m\u001b[01;34mdrive\u001b[0m/  \u001b[01;34msample_data\u001b[0m/\n"
          ]
        }
      ],
      "source": [
        "ls"
      ]
    },
    {
      "cell_type": "code",
      "execution_count": 3,
      "metadata": {
        "colab": {
          "base_uri": "https://localhost:8080/"
        },
        "id": "-1R6_lCMwcYC",
        "outputId": "108a392c-ec6c-423e-bf4f-40a14e6abc06"
      },
      "outputs": [
        {
          "output_type": "stream",
          "name": "stdout",
          "text": [
            "/content/drive\n"
          ]
        }
      ],
      "source": [
        "cd drive"
      ]
    },
    {
      "cell_type": "code",
      "execution_count": 4,
      "metadata": {
        "colab": {
          "base_uri": "https://localhost:8080/"
        },
        "id": "WiEwzndUwcWA",
        "outputId": "f6bbb509-2d2a-443a-c2bf-ecce9421dff8"
      },
      "outputs": [
        {
          "output_type": "stream",
          "name": "stdout",
          "text": [
            "\u001b[0m\u001b[01;34mMyDrive\u001b[0m/\n"
          ]
        }
      ],
      "source": [
        "ls"
      ]
    },
    {
      "cell_type": "code",
      "execution_count": 5,
      "metadata": {
        "colab": {
          "base_uri": "https://localhost:8080/"
        },
        "id": "BeMzwwPkwcTw",
        "outputId": "a46c0188-14eb-413d-80c0-f1129d4d3ad3"
      },
      "outputs": [
        {
          "output_type": "stream",
          "name": "stdout",
          "text": [
            "/content/drive/MyDrive\n"
          ]
        }
      ],
      "source": [
        "cd MyDrive"
      ]
    },
    {
      "cell_type": "code",
      "execution_count": null,
      "metadata": {
        "id": "aqkF5hZOwcDw"
      },
      "outputs": [],
      "source": [
        "ls"
      ]
    },
    {
      "cell_type": "code",
      "execution_count": 7,
      "metadata": {
        "id": "SZjCynPAwoRg"
      },
      "outputs": [],
      "source": [
        "import json\n",
        "import csv\n",
        "import pandas as pd\n",
        "import os"
      ]
    },
    {
      "cell_type": "code",
      "execution_count": 8,
      "metadata": {
        "id": "dDqBdwMdxKow"
      },
      "outputs": [],
      "source": [
        "json_path = os.path.join(\"cow_data.json\")"
      ]
    },
    {
      "cell_type": "code",
      "execution_count": 9,
      "metadata": {
        "id": "p-TluUe3w8tL"
      },
      "outputs": [],
      "source": [
        "data_body = json.loads(json.load(open(json_path))['body'])"
      ]
    },
    {
      "cell_type": "code",
      "source": [
        "acc_df = pd.DataFrame()"
      ],
      "metadata": {
        "id": "IkYeza5ktEce"
      },
      "execution_count": 10,
      "outputs": []
    },
    {
      "cell_type": "code",
      "execution_count": 11,
      "metadata": {
        "id": "Zu_dbE8tU2pg"
      },
      "outputs": [],
      "source": [
        "acc_data = []\n",
        "acc_data.clear()"
      ]
    },
    {
      "cell_type": "code",
      "execution_count": 12,
      "metadata": {
        "id": "U22xTfPa0mB3"
      },
      "outputs": [],
      "source": [
        "for i in range(len(data_body)):\n",
        "    device_id = data_body[i]['deviceId']\n",
        "    timestamp = data_body[i]['timestamp']\n",
        "\n",
        "    for j in range(len(data_body[i]['coordinate'])):\n",
        "\n",
        "        x, y, z = data_body[i]['coordinate'][j][0], data_body[i]['coordinate'][j][1], data_body[i]['coordinate'][j][2]\n",
        "\n",
        "        temp_df = pd.concat([pd.Series(device_id),pd.Series(timestamp), pd.Series(x), pd.Series(y), pd.Series(z)], axis=1, ignore_index=True)\n",
        "\n",
        "        acc_data.append(temp_df)"
      ]
    },
    {
      "cell_type": "code",
      "execution_count": 13,
      "metadata": {
        "id": "DdabMvZeVs2j"
      },
      "outputs": [],
      "source": [
        "acc_df = pd.concat(acc_data, ignore_index = True)"
      ]
    },
    {
      "cell_type": "code",
      "execution_count": 14,
      "metadata": {
        "id": "zubBRvyvWOBg"
      },
      "outputs": [],
      "source": [
        "acc_df.columns = ['deviceId', 'timestamp', 'AccX', 'AccY', 'AccZ']"
      ]
    },
    {
      "cell_type": "code",
      "execution_count": 15,
      "metadata": {
        "id": "DofLlbToVvqC"
      },
      "outputs": [],
      "source": [
        "acc_df.to_csv(os.getcwd() + '/T_out1.csv', sep=',', index=False)"
      ]
    },
    {
      "cell_type": "code",
      "execution_count": 16,
      "metadata": {
        "id": "wA8bLcF1Vw5y",
        "colab": {
          "base_uri": "https://localhost:8080/"
        },
        "outputId": "e1f19603-bc34-45f5-dcc4-f27b01740a7f"
      },
      "outputs": [
        {
          "output_type": "stream",
          "name": "stdout",
          "text": [
            "    deviceId   timestamp AccX AccY AccZ\n",
            "0        120  1688132921  251  249   61\n",
            "1        120  1688132921  251  249   61\n",
            "2        120  1688132921  251  249   61\n",
            "3        120  1688132921  251  250   61\n",
            "4        120  1688132921  251  250   60\n",
            "..       ...         ...  ...  ...  ...\n",
            "475      120  1688133222  252  250   61\n",
            "476      120  1688133222  251  249   60\n",
            "477      120  1688133222  251  250   61\n",
            "478      120  1688133222  252  249   60\n",
            "479      120  1688133222  251  249   60\n",
            "\n",
            "[480 rows x 5 columns]\n"
          ]
        }
      ],
      "source": [
        "print(acc_df)"
      ]
    },
    {
      "cell_type": "code",
      "source": [],
      "metadata": {
        "id": "GzJzXem7tKKS"
      },
      "execution_count": null,
      "outputs": []
    }
  ],
  "metadata": {
    "colab": {
      "provenance": [],
      "authorship_tag": "ABX9TyPBUKyx019dEXrgQs5YO3Ts",
      "include_colab_link": true
    },
    "kernelspec": {
      "display_name": "Python 3",
      "name": "python3"
    },
    "language_info": {
      "name": "python"
    }
  },
  "nbformat": 4,
  "nbformat_minor": 0
}
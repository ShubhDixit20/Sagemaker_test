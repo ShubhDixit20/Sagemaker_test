{
  "nbformat": 4,
  "nbformat_minor": 0,
  "metadata": {
    "colab": {
      "provenance": [],
      "authorship_tag": "ABX9TyMWVhT+p0g//Air7x+VRa9Q",
      "include_colab_link": true
    },
    "kernelspec": {
      "name": "python3",
      "display_name": "Python 3"
    },
    "language_info": {
      "name": "python"
    }
  },
  "cells": [
    {
      "cell_type": "markdown",
      "metadata": {
        "id": "view-in-github",
        "colab_type": "text"
      },
      "source": [
        "<a href=\"https://colab.research.google.com/github/ShubhDixit20/Sagemaker_test/blob/main/JSON_to_CSV.ipynb\" target=\"_parent\"><img src=\"https://colab.research.google.com/assets/colab-badge.svg\" alt=\"Open In Colab\"/></a>"
      ]
    },
    {
      "cell_type": "code",
      "execution_count": 1,
      "metadata": {
        "colab": {
          "base_uri": "https://localhost:8080/"
        },
        "id": "MHdvm9UiwZvl",
        "outputId": "857cf318-27ac-45a1-9c65-86bb8783ef4e"
      },
      "outputs": [
        {
          "output_type": "stream",
          "name": "stdout",
          "text": [
            "Mounted at /content/drive/\n"
          ]
        }
      ],
      "source": [
        "from google.colab import drive\n",
        "drive.mount('/content/drive/')"
      ]
    },
    {
      "cell_type": "code",
      "source": [
        "ls"
      ],
      "metadata": {
        "colab": {
          "base_uri": "https://localhost:8080/"
        },
        "id": "eoTbUlPhwcaA",
        "outputId": "011c9789-b6e9-486e-b196-21b73c9d055b"
      },
      "execution_count": 2,
      "outputs": [
        {
          "output_type": "stream",
          "name": "stdout",
          "text": [
            "\u001b[0m\u001b[01;34mdrive\u001b[0m/  \u001b[01;34msample_data\u001b[0m/\n"
          ]
        }
      ]
    },
    {
      "cell_type": "code",
      "source": [
        "cd drive"
      ],
      "metadata": {
        "colab": {
          "base_uri": "https://localhost:8080/"
        },
        "id": "-1R6_lCMwcYC",
        "outputId": "ed7184c4-622c-4397-8032-a18e6d3be352"
      },
      "execution_count": 3,
      "outputs": [
        {
          "output_type": "stream",
          "name": "stdout",
          "text": [
            "/content/drive\n"
          ]
        }
      ]
    },
    {
      "cell_type": "code",
      "source": [
        "ls"
      ],
      "metadata": {
        "colab": {
          "base_uri": "https://localhost:8080/"
        },
        "id": "WiEwzndUwcWA",
        "outputId": "b12ea947-c6bd-44db-9832-dc8459a859cc"
      },
      "execution_count": 4,
      "outputs": [
        {
          "output_type": "stream",
          "name": "stdout",
          "text": [
            "\u001b[0m\u001b[01;34mMyDrive\u001b[0m/\n"
          ]
        }
      ]
    },
    {
      "cell_type": "code",
      "source": [
        "cd MyDrive"
      ],
      "metadata": {
        "colab": {
          "base_uri": "https://localhost:8080/"
        },
        "id": "BeMzwwPkwcTw",
        "outputId": "66491398-8440-485b-fc98-bbd3a1e81268"
      },
      "execution_count": 5,
      "outputs": [
        {
          "output_type": "stream",
          "name": "stdout",
          "text": [
            "/content/drive/MyDrive\n"
          ]
        }
      ]
    },
    {
      "cell_type": "code",
      "source": [
        "ls"
      ],
      "metadata": {
        "id": "aqkF5hZOwcDw"
      },
      "execution_count": null,
      "outputs": []
    },
    {
      "cell_type": "code",
      "source": [
        "import json\n",
        "import csv\n",
        "import pandas as pd\n",
        "import os"
      ],
      "metadata": {
        "id": "SZjCynPAwoRg"
      },
      "execution_count": 88,
      "outputs": []
    },
    {
      "cell_type": "code",
      "source": [
        "json_path = os.path.join(\"cow_data.json\")"
      ],
      "metadata": {
        "id": "dDqBdwMdxKow"
      },
      "execution_count": 89,
      "outputs": []
    },
    {
      "cell_type": "code",
      "source": [
        "acc_df = pd.DataFrame(columns = ['deviceId', 'timestamp', 'AccX', 'AccY', 'AccZ'])\n",
        "data_body = json.loads(json.load(open(json_path))['body'])"
      ],
      "metadata": {
        "id": "p-TluUe3w8tL"
      },
      "execution_count": 110,
      "outputs": []
    },
    {
      "cell_type": "code",
      "source": [
        "acc_data = []"
      ],
      "metadata": {
        "id": "Zu_dbE8tU2pg"
      },
      "execution_count": 119,
      "outputs": []
    },
    {
      "cell_type": "code",
      "source": [
        "for i in range(len(data_body)):\n",
        "    for j in range(len(data_body[i]['coordinate'])):\n",
        "\n",
        "        device_id = data_body[i]['deviceId']\n",
        "        timestamp = data_body[i]['timestamp']\n",
        "\n",
        "        x, y, z = data_body[i]['coordinate'][j][0], data_body[i]['coordinate'][j][1], data_body[i]['coordinate'][j][2]\n",
        "\n",
        "        temp_df = pd.concat([pd.Series(device_id),pd.Series(timestamp), pd.Series(x), pd.Series(y), pd.Series(z)], axis=1, ignore_index=True)\n",
        "\n",
        "        acc_data.append(temp_df)"
      ],
      "metadata": {
        "id": "U22xTfPa0mB3"
      },
      "execution_count": null,
      "outputs": []
    },
    {
      "cell_type": "code",
      "source": [
        "acc_df = pd.concat(acc_data, ignore_index = True)"
      ],
      "metadata": {
        "id": "DdabMvZeVs2j"
      },
      "execution_count": null,
      "outputs": []
    },
    {
      "cell_type": "code",
      "source": [
        "acc_df.to_csv(os.getcwd() + '/T_out.csv', sep=',', index=False)"
      ],
      "metadata": {
        "id": "DofLlbToVvqC"
      },
      "execution_count": null,
      "outputs": []
    },
    {
      "cell_type": "code",
      "source": [
        "print(acc_df)"
      ],
      "metadata": {
        "id": "wA8bLcF1Vw5y"
      },
      "execution_count": null,
      "outputs": []
    }
  ]
}
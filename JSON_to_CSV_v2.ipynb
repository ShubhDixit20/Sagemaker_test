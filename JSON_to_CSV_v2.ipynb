{
  "nbformat": 4,
  "nbformat_minor": 0,
  "metadata": {
    "colab": {
      "provenance": [],
      "authorship_tag": "ABX9TyPtjCXPVtKzFV6P+pGvBGcv",
      "include_colab_link": true
    },
    "kernelspec": {
      "name": "python3",
      "display_name": "Python 3"
    },
    "language_info": {
      "name": "python"
    }
  },
  "cells": [
    {
      "cell_type": "markdown",
      "metadata": {
        "id": "view-in-github",
        "colab_type": "text"
      },
      "source": [
        "<a href=\"https://colab.research.google.com/github/ShubhDixit20/Sagemaker_test/blob/main/JSON_to_CSV_v2.ipynb\" target=\"_parent\"><img src=\"https://colab.research.google.com/assets/colab-badge.svg\" alt=\"Open In Colab\"/></a>"
      ]
    },
    {
      "cell_type": "code",
      "execution_count": 1,
      "metadata": {
        "colab": {
          "base_uri": "https://localhost:8080/"
        },
        "id": "MHdvm9UiwZvl",
        "outputId": "857cf318-27ac-45a1-9c65-86bb8783ef4e"
      },
      "outputs": [
        {
          "output_type": "stream",
          "name": "stdout",
          "text": [
            "Mounted at /content/drive/\n"
          ]
        }
      ],
      "source": [
        "from google.colab import drive\n",
        "drive.mount('/content/drive/')"
      ]
    },
    {
      "cell_type": "code",
      "source": [
        "ls"
      ],
      "metadata": {
        "colab": {
          "base_uri": "https://localhost:8080/"
        },
        "id": "eoTbUlPhwcaA",
        "outputId": "011c9789-b6e9-486e-b196-21b73c9d055b"
      },
      "execution_count": 2,
      "outputs": [
        {
          "output_type": "stream",
          "name": "stdout",
          "text": [
            "\u001b[0m\u001b[01;34mdrive\u001b[0m/  \u001b[01;34msample_data\u001b[0m/\n"
          ]
        }
      ]
    },
    {
      "cell_type": "code",
      "source": [
        "cd drive"
      ],
      "metadata": {
        "colab": {
          "base_uri": "https://localhost:8080/"
        },
        "id": "-1R6_lCMwcYC",
        "outputId": "ed7184c4-622c-4397-8032-a18e6d3be352"
      },
      "execution_count": 3,
      "outputs": [
        {
          "output_type": "stream",
          "name": "stdout",
          "text": [
            "/content/drive\n"
          ]
        }
      ]
    },
    {
      "cell_type": "code",
      "source": [
        "ls"
      ],
      "metadata": {
        "colab": {
          "base_uri": "https://localhost:8080/"
        },
        "id": "WiEwzndUwcWA",
        "outputId": "b12ea947-c6bd-44db-9832-dc8459a859cc"
      },
      "execution_count": 4,
      "outputs": [
        {
          "output_type": "stream",
          "name": "stdout",
          "text": [
            "\u001b[0m\u001b[01;34mMyDrive\u001b[0m/\n"
          ]
        }
      ]
    },
    {
      "cell_type": "code",
      "source": [
        "cd MyDrive"
      ],
      "metadata": {
        "colab": {
          "base_uri": "https://localhost:8080/"
        },
        "id": "BeMzwwPkwcTw",
        "outputId": "66491398-8440-485b-fc98-bbd3a1e81268"
      },
      "execution_count": 5,
      "outputs": [
        {
          "output_type": "stream",
          "name": "stdout",
          "text": [
            "/content/drive/MyDrive\n"
          ]
        }
      ]
    },
    {
      "cell_type": "code",
      "source": [
        "ls"
      ],
      "metadata": {
        "id": "aqkF5hZOwcDw"
      },
      "execution_count": null,
      "outputs": []
    },
    {
      "cell_type": "code",
      "source": [
        "import json\n",
        "import csv\n",
        "import pandas as pd\n",
        "import os"
      ],
      "metadata": {
        "id": "SZjCynPAwoRg"
      },
      "execution_count": 155,
      "outputs": []
    },
    {
      "cell_type": "code",
      "source": [
        "json_path = os.path.join(\"cow_data.json\")"
      ],
      "metadata": {
        "id": "dDqBdwMdxKow"
      },
      "execution_count": 156,
      "outputs": []
    },
    {
      "cell_type": "code",
      "source": [
        "acc_df = pd.DataFrame(columns = ['deviceId', 'timestamp', 'AccX', 'AccY', 'AccZ'])\n",
        "data_body = json.loads(json.load(open(json_path))['body'])"
      ],
      "metadata": {
        "id": "p-TluUe3w8tL"
      },
      "execution_count": 157,
      "outputs": []
    },
    {
      "cell_type": "code",
      "source": [
        "acc_data = []\n",
        "acc_data.clear()"
      ],
      "metadata": {
        "id": "Zu_dbE8tU2pg"
      },
      "execution_count": 168,
      "outputs": []
    },
    {
      "cell_type": "code",
      "source": [],
      "metadata": {
        "id": "ApKQyzLxbE3I"
      },
      "execution_count": 168,
      "outputs": []
    },
    {
      "cell_type": "code",
      "source": [
        "for i in range(len(data_body)):\n",
        "    device_id = data_body[i]['deviceId']\n",
        "    timestamp = data_body[i]['timestamp']\n",
        "\n",
        "    for j in range(len(data_body[i]['coordinate'])):\n",
        "\n",
        "        x, y, z = data_body[i]['coordinate'][j][0], data_body[i]['coordinate'][j][1], data_body[i]['coordinate'][j][2]\n",
        "\n",
        "        temp_df = pd.concat([pd.Series(device_id),pd.Series(timestamp), pd.Series(x), pd.Series(y), pd.Series(z)], axis=1, ignore_index=True)\n",
        "\n",
        "        acc_data.append(temp_df)"
      ],
      "metadata": {
        "id": "U22xTfPa0mB3"
      },
      "execution_count": 169,
      "outputs": []
    },
    {
      "cell_type": "code",
      "source": [
        "acc_df = pd.concat(acc_data, ignore_index = True)"
      ],
      "metadata": {
        "id": "DdabMvZeVs2j"
      },
      "execution_count": 170,
      "outputs": []
    },
    {
      "cell_type": "code",
      "source": [
        "acc_df.columns = ['deviceId', 'timestamp', 'AccX', 'AccY', 'AccZ']"
      ],
      "metadata": {
        "id": "zubBRvyvWOBg"
      },
      "execution_count": 171,
      "outputs": []
    },
    {
      "cell_type": "code",
      "source": [
        "acc_df.to_csv(os.getcwd() + '/T_out1.csv', sep=',', index=False)"
      ],
      "metadata": {
        "id": "DofLlbToVvqC"
      },
      "execution_count": 172,
      "outputs": []
    },
    {
      "cell_type": "code",
      "source": [
        "print(acc_df)"
      ],
      "metadata": {
        "colab": {
          "base_uri": "https://localhost:8080/"
        },
        "id": "wA8bLcF1Vw5y",
        "outputId": "f9d5651b-5cec-4386-908c-257bb0fcc070"
      },
      "execution_count": 173,
      "outputs": [
        {
          "output_type": "stream",
          "name": "stdout",
          "text": [
            "    deviceId   timestamp AccX AccY AccZ\n",
            "0        120  1688132921  251  249   61\n",
            "1        120  1688132921  251  249   61\n",
            "2        120  1688132921  251  249   61\n",
            "3        120  1688132921  251  250   61\n",
            "4        120  1688132921  251  250   60\n",
            "..       ...         ...  ...  ...  ...\n",
            "475      120  1688133222  252  250   61\n",
            "476      120  1688133222  251  249   60\n",
            "477      120  1688133222  251  250   61\n",
            "478      120  1688133222  252  249   60\n",
            "479      120  1688133222  251  249   60\n",
            "\n",
            "[480 rows x 5 columns]\n"
          ]
        }
      ]
    },
    {
      "cell_type": "code",
      "source": [],
      "metadata": {
        "id": "1TMX23NOad0Z"
      },
      "execution_count": null,
      "outputs": []
    }
  ]
}
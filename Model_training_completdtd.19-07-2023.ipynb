{
  "nbformat": 4,
  "nbformat_minor": 0,
  "metadata": {
    "colab": {
      "provenance": [],
      "authorship_tag": "ABX9TyOcdqEKB1EpF6TjggAf4C/w",
      "include_colab_link": true
    },
    "kernelspec": {
      "name": "python3",
      "display_name": "Python 3"
    },
    "language_info": {
      "name": "python"
    }
  },
  "cells": [
    {
      "cell_type": "markdown",
      "metadata": {
        "id": "view-in-github",
        "colab_type": "text"
      },
      "source": [
        "<a href=\"https://colab.research.google.com/github/ShubhDixit20/Sagemaker_test/blob/main/Model_training_completdtd.19-07-2023.ipynb\" target=\"_parent\"><img src=\"https://colab.research.google.com/assets/colab-badge.svg\" alt=\"Open In Colab\"/></a>"
      ]
    },
    {
      "cell_type": "code",
      "source": [
        "from google.colab import drive\n",
        "drive.mount('/content/drive/')"
      ],
      "metadata": {
        "colab": {
          "base_uri": "https://localhost:8080/"
        },
        "id": "izDLNw39uFcs",
        "outputId": "a78fd949-fdd3-4ce6-db00-d6ed3cf250f6"
      },
      "execution_count": 1,
      "outputs": [
        {
          "output_type": "stream",
          "name": "stdout",
          "text": [
            "Mounted at /content/drive/\n"
          ]
        }
      ]
    },
    {
      "cell_type": "code",
      "source": [
        "ls"
      ],
      "metadata": {
        "colab": {
          "base_uri": "https://localhost:8080/"
        },
        "id": "Sy85uJaBMxXA",
        "outputId": "37a82012-1d36-4908-c78d-bf0b2c377efb"
      },
      "execution_count": 2,
      "outputs": [
        {
          "output_type": "stream",
          "name": "stdout",
          "text": [
            "\u001b[0m\u001b[01;34mdrive\u001b[0m/  \u001b[01;34msample_data\u001b[0m/\n"
          ]
        }
      ]
    },
    {
      "cell_type": "code",
      "source": [
        "cd .."
      ],
      "metadata": {
        "colab": {
          "base_uri": "https://localhost:8080/"
        },
        "id": "JDrY3Dcovb-K",
        "outputId": "83f56d27-e219-4420-fb9d-a0eb3ed25804"
      },
      "execution_count": 3,
      "outputs": [
        {
          "output_type": "stream",
          "name": "stdout",
          "text": [
            "/\n"
          ]
        }
      ]
    },
    {
      "cell_type": "code",
      "source": [
        "cd content"
      ],
      "metadata": {
        "colab": {
          "base_uri": "https://localhost:8080/"
        },
        "id": "VPmlL_kkfnp7",
        "outputId": "71ad6e42-85aa-4101-9621-2224271f507a"
      },
      "execution_count": 4,
      "outputs": [
        {
          "output_type": "stream",
          "name": "stdout",
          "text": [
            "/content\n"
          ]
        }
      ]
    },
    {
      "cell_type": "code",
      "source": [
        "cd MyDrive"
      ],
      "metadata": {
        "colab": {
          "base_uri": "https://localhost:8080/"
        },
        "id": "XlbAxglgfvwb",
        "outputId": "9d0410d4-36db-455e-84dc-3a327716ca55"
      },
      "execution_count": 7,
      "outputs": [
        {
          "output_type": "stream",
          "name": "stdout",
          "text": [
            "/content/drive/MyDrive\n"
          ]
        }
      ]
    },
    {
      "cell_type": "code",
      "source": [
        "cd Cow Neck AI"
      ],
      "metadata": {
        "colab": {
          "base_uri": "https://localhost:8080/"
        },
        "id": "KJU3IgJRfxr7",
        "outputId": "9cf47f08-4258-4150-dba5-e12669139d59"
      },
      "execution_count": 8,
      "outputs": [
        {
          "output_type": "stream",
          "name": "stdout",
          "text": [
            "/content/drive/MyDrive/Cow Neck AI\n"
          ]
        }
      ]
    },
    {
      "cell_type": "code",
      "source": [
        "pip install -r requirements.txt"
      ],
      "metadata": {
        "id": "II3FEmvjvncE"
      },
      "execution_count": null,
      "outputs": []
    },
    {
      "cell_type": "code",
      "source": [
        "!pwd"
      ],
      "metadata": {
        "colab": {
          "base_uri": "https://localhost:8080/"
        },
        "id": "czienj98L5xj",
        "outputId": "75d9b8e0-c0e0-40f8-9de0-2bc5fbeb958f"
      },
      "execution_count": 6,
      "outputs": [
        {
          "output_type": "stream",
          "name": "stdout",
          "text": [
            "/\n"
          ]
        }
      ]
    },
    {
      "cell_type": "code",
      "source": [
        "cd MyDrive"
      ],
      "metadata": {
        "colab": {
          "base_uri": "https://localhost:8080/"
        },
        "id": "oeem5m5wL_i4",
        "outputId": "c1a8010b-c59f-4eca-a5c3-3d3881a06e79"
      },
      "execution_count": 10,
      "outputs": [
        {
          "output_type": "stream",
          "name": "stdout",
          "text": [
            "/content/drive/MyDrive\n"
          ]
        }
      ]
    },
    {
      "cell_type": "code",
      "source": [
        "import sys\n",
        "import time\n",
        "import threading\n",
        "import atexit\n",
        "import os\n",
        "import shutil\n",
        "import pandas as pd\n",
        "import os\n",
        "import copy\n",
        "import pandas as pd\n",
        "from pathlib import Path\n",
        "import glob\n",
        "import matplotlib.pyplot as plt\n",
        "import seaborn as sns\n",
        "from sklearn.model_selection import train_test_split\n",
        "from sklearn import *\n",
        "from sklearn.metrics import classification_report, confusion_matrix, ConfusionMatrixDisplay\n",
        "import joblib\n",
        "import warnings\n",
        "from math import *\n",
        "from imblearn.over_sampling import RandomOverSampler\n",
        "from tqdm import tqdm"
      ],
      "metadata": {
        "id": "_IrLlAJs0c8Y"
      },
      "execution_count": 11,
      "outputs": []
    },
    {
      "cell_type": "code",
      "source": [
        "class App():\n",
        "    def __init__(self):\n",
        "        super().__init__()\n",
        "\n",
        "        # atexit.register(self.exit_handler)\n",
        "\n",
        "        self.ProjectName = str()\n",
        "        self.ExperimenterName = str()\n",
        "        self.ProjectDate = str()\n",
        "        self.MainDirectory = str()\n",
        "        self.ModelPath = str()\n",
        "        self.DataPath = str()\n",
        "        self.PlotsPath = str()\n",
        "        self.script_dir = os.path.abspath(self.DataPath)\n",
        "        self.MetricsPath = os.path.join(self.script_dir, \"Metrics\")\n",
        "        self.FeaturePath = os.path.join(self.script_dir, \"FeaturePath\")\n",
        "        self.RawDataDirectory = os.path.join(self.script_dir, \"RawData\")\n",
        "        self.ResultPath = str()\n",
        "        self.SamplingRate = str()\n",
        "        self.WindowSize = str()\n",
        "        self.StepSize = str()\n",
        "        self.ClassNames = str()\n",
        "        self.ModelName = \"RandomForestClassifier\"\n",
        "        self.TrainValRatio = 0.2\n",
        "        self.TrainedModelPath = str()\n",
        "        self.FilePath_BehaviorAnalysis = str()\n",
        "        # self.progress_callback = self.update_progress\n",
        "        data_combined = pd.DataFrame()\n",
        "\n",
        "    def displayEvaluationResults(self):\n",
        "        # MetricsPath = self.MetricsPath + \"Metrics_\" + str(self.ModelName) + '_' + str(self.TrainValRatio) + \".csv\"\n",
        "        fileName_eval = \"Metrics_\" + str(self.ModelName) + '_' + str(self.TrainValRatio) + \".csv\"\n",
        "        filepath1 = os.path.join(self.MetricsPath, fileName_eval)\n",
        "        print(\"metrics path: \", filepath1)\n",
        "\n",
        "        data = pd.DataFrame(pd.read_csv(filepath1, index_col=0))\n",
        "        av_precision = round(data.loc[\"macro avg\", \"precision\"] * 100, 1)\n",
        "        av_recall = round(data.loc[\"macro avg\", \"recall\"] * 100, 1)\n",
        "        av_f1_score = round(data.loc[\"macro avg\", \"f1-score\"] * 100, 1)\n",
        "        weighted_precision = round(data.loc[\"weighted avg\", \"precision\"] * 100, 1)\n",
        "        weighted_recall = round(data.loc[\"weighted avg\", \"recall\"] * 100, 1)\n",
        "        weighted_f1_score = round(data.loc[\"weighted avg\", \"f1-score\"] * 100, 1)\n",
        "        overall_accuracy = round(data.loc[\"accuracy\", \"support\"] * 100, 1)\n",
        "    #     figurepath = self.PlotsPath + \"/ConfusionMatrix_\" + str(self.ModelName) + '_' + str(self.TrainValRatio) + \".png\"\n",
        "    #     self.ui.image_ConfusionMatrix.setPixmap(QPixmap(figurepath))\n",
        "        print(\"av_precision: \",av_precision,\" \\nav_recall: \",av_recall,\"\\nav_f1score: \",av_f1_score,\"\\nweighted_precision: \",weighted_precision,\"\\nweighted_recall: \",weighted_recall,\"\\nweighted_f1score: \",weighted_f1_score,\"\\noverall_accuracy: \",overall_accuracy)\n",
        "        print(\"Evaluation was completed\")\n",
        "\n",
        "    # def visualizeBehaviorResults(self):\n",
        "    #     ResultPath = self.ResultPath + \"/TimeBudget.txt\"\n",
        "    #     data = pd.DataFrame(pd.read_csv(ResultPath, index_col=0))\n",
        "    #     data_index = data.index\n",
        "    #     self.ui.QLabel_Top_1_Name.setText(str(data_index[0] + \" (second)\"))\n",
        "    #     self.ui.QLabel_Top_2_Name.setText(str(data_index[1] + \" (second)\"))\n",
        "    #     self.ui.QLabel_Top_3_Name.setText(str(data_index[2] + \" (second)\"))\n",
        "    #     self.ui.LineEdit_Top_1_Behavior.setText(str(data.iloc[0][0]))\n",
        "    #     self.ui.LineEdit_Top_2_Behavior.setText(str(data.iloc[1][0]))\n",
        "    #     self.ui.LineEdit_Top_3_Behavior.setText(str(data.iloc[2][0]))\n",
        "    #     figurepath = self.PlotsPath + \"/BehaviorResults.png\"\n",
        "    #     self.ui.image_BehaviorBudget.setPixmap(QPixmap(figurepath))\n",
        "\n",
        "    ######################## BACKEND #####################################\n",
        "    def FeatureExtraction(self):\n",
        "\n",
        "        #After which we will have to create a dataframe that will help us to extract features & train the model.\n",
        "        # warnings.filterwarnings(\"ignore\")\n",
        "        filename = 'cow2.csv'\n",
        "        filepath = os.path.join(self.RawDataDirectory, filename)\n",
        "        df = pd.read_csv(filepath)\n",
        "        # self.SamplingRate, self.StepSize, self.WindowSize = input(\"Enter 3 values: \").split()\n",
        "        self.SamplingRate = 25\n",
        "        self.StepSize = 1\n",
        "        self.WindowSize = 1\n",
        "        WindowLength = int(int(self.SamplingRate) * float(self.WindowSize))\n",
        "        StepLength = int(round(int(self.SamplingRate) * float(self.StepSize)))\n",
        "        data_combined = pd.DataFrame()\n",
        "\n",
        "        lst = [self.SamplingRate, self.WindowSize, self.StepSize, WindowLength, StepLength]\n",
        "        lst_df = pd.DataFrame(lst, index=['SamplingRate', 'WindowSize', 'StepSize', 'WindowLength', 'StepLength'], columns=['KeyParameters'])\n",
        "        lst_save_name = self.MainDirectory + \"/KeyParameters_DataProcessing.csv\"\n",
        "        lst_df.to_csv(lst_save_name)\n",
        "\n",
        "        test_object = Path(filepath).stem\n",
        "        data = pd.DataFrame(pd.read_csv(filepath))\n",
        "        labels = data['Label']\n",
        "        data_formatted = data.drop(['Label'], axis=1).copy()\n",
        "        print(data_formatted)\n",
        "        range_end = len(data_formatted) - WindowLength\n",
        "        data_temp = pd.DataFrame()\n",
        "\n",
        "        #All the above in this function has to be replaced with the snippet for accessing the csv file saved in s3 bucket.\n",
        "\n",
        "        for i in tqdm(range(0, range_end, StepLength)):\n",
        "            # if(i==4)\n",
        "            # {\n",
        "            # if labels.loc[i]==nan:\n",
        "            #     continue\n",
        "            data_selected = data_formatted[['AccX', 'AccY', 'AccZ']][i: i + WindowLength]\n",
        "            # features\n",
        "            data_kurt = data_selected.kurtosis()\n",
        "            # print(data_kurt)\n",
        "            # data_mad = data_selected.mad()\n",
        "            data_mean = data_selected.mean()\n",
        "            # print(data_mean)\n",
        "            data_median = data_selected.median()\n",
        "            data_min = data_selected.min()\n",
        "            data_max = data_selected.max()\n",
        "            #print(\"data_min: \",data_min)\n",
        "            #print(\"data_max: \", data_max)\n",
        "            data_quan_25 = data_selected.quantile(q=0.25)\n",
        "            #print(\"data_25:\",data_quan_25)\n",
        "            data_quan_50 = data_selected.quantile(q=0.5)\n",
        "            #print(\"data_50:\",data_quan_50)\n",
        "            data_quan_75 = data_selected.quantile(q=0.75)\n",
        "            #print(\"data_75:\",data_quan_75)\n",
        "            data_skew = data_selected.skew()\n",
        "            #print(\"data_skew: \",data_skew)\n",
        "            data_sum = data_selected.sum()\n",
        "            #print(\"data_sum:\",data_sum)\n",
        "            data_std = data_selected.std()\n",
        "            #print(\"data_std:\",data_std)\n",
        "            data_var = data_selected.var()\n",
        "            #print(\"data_var:\",data_var)\n",
        "            SignalMagnitudeArea = abs(data_formatted.loc[i][2]) + abs(data_formatted.loc[i][3]) + abs(data_formatted.loc[i][4])\n",
        "            VectorMagnitude = sqrt(abs(data_formatted.loc[i][2] + data_formatted.loc[i][3] + data_formatted.loc[i][4]))\n",
        "            MovementVariation = abs(data_formatted.loc[i+1][2]-data_formatted.loc[i][2]) + abs(data_formatted.loc[i+1][3]-data_formatted.loc[i][3]) + abs(data_formatted.loc[i+1][4]-data_formatted.loc[i][4])\n",
        "            Energy = ((data_formatted.loc[i][2])**2 + (data_formatted.loc[i][3])**2 + (data_formatted.loc[i][4])**2)**2\n",
        "            Entropy = (1+(data_formatted.loc[i][2] + data_formatted.loc[i][3] + data_formatted.loc[i][4]))**2 * log(abs(1+data_formatted.loc[i][2] + data_formatted.loc[i][3] + (data_formatted.loc[i][4])**2))\n",
        "            # SignalMagnitudeArea = abs(int(data_formatted.loc[i][1])) + abs(int(data_formatted.loc[i][2])) + abs(int(data_formatted.loc[i][3]))\n",
        "\n",
        "            # VectorMagnitude = sqrt(abs(data_formatted.loc[i][0] + data_formatted.loc[i][1] + data_formatted.loc[i][2]))\n",
        "\n",
        "            # MovementVariation = abs(data_formatted.loc[i][0]-data_formatted.loc[i+1][0]) + abs(data_formatted.loc[i][1]-data_formatted.loc[i+1][1]) + abs(data_formatted.loc[i][2]-data_formatted.loc[i+1][2])\n",
        "\n",
        "            # Energy = ((data_formatted.loc[i][0])**2 + (data_formatted.loc[i][1])**2 + (data_formatted.loc[i][2])**2)**2\n",
        "\n",
        "            # Entropy = (1+(data_formatted.loc[i][0] + data_formatted.loc[i][1] + data_formatted.loc[i][2]))**2 * log(abs(1+data_formatted.loc[i][0] + data_formatted.loc[i][1] + (data_formatted.loc[i][2])**2))\n",
        "\n",
        "            # data_combined_hor = pd.concat(\n",
        "            #     [pd.Series(test_object), pd.Series(labels.loc[i]), pd.Series(data_formatted.loc[i][2]),pd.Series(data_formatted.loc[i][3]),pd.Series(data_formatted.loc[i][4]),\n",
        "            #     data_kurt[1:], data_mean[1:], data_median[1:], data_min[2:], data_max[2:], data_quan_25[1:4],\n",
        "            #     data_quan_50[1:4], data_quan_75[1:4], data_skew[1:], data_sum[2:], data_std[1:], data_var[1:],\n",
        "            #     pd.Series(SignalMagnitudeArea), pd.Series(VectorMagnitude), pd.Series(MovementVariation), pd.Series(Energy), pd.Series(Entropy)], axis=0, ignore_index=True)\n",
        "\n",
        "            # data_temp = pd.concat([data_temp, data_combined_hor], ignore_index=True)\n",
        "\n",
        "            # data_combined_hor = pd.concat(\n",
        "            #     [pd.Series(test_object), pd.Series(labels.loc[i]), pd.Series(data_formatted.loc[i][2]),pd.Series(data_formatted.loc[i][3]),pd.Series(data_formatted.loc[i][4]),\n",
        "            #     pd.Series(data_kurt[1]),pd.Series(data_kurt[2]),pd.Series(data_kurt[3]), pd.Series(data_mad[1]),pd.Series(data_mad[2]),pd.Series(data_mad[3]), pd.Series(data_mean[1]),pd.Series(data_mean[2]),pd.Series(data_mean[3]), pd.Series(data_median[1]),pd.Series(data_median[2]),pd.Series(data_median[3]), pd.Series(data_min[2]),pd.Series(data_min[3]),pd.Series(data_min[4]), pd.Series(data_max[2]),pd.Series(data_max[3]),pd.Series(data_max[4]), pd.Series(data_quan_25[1]),pd.Series(data_quan_25[2]),pd.Series(data_quan_25[3]),\n",
        "            #     pd.Series(data_quan_50[1]),pd.Series(data_quan_50[2]),pd.Series(data_quan_50[3]), pd.Series(data_quan_75[1]),pd.Series(data_quan_75[2]),pd.Series(data_quan_75[3]), pd.Series(data_skew[1]),pd.Series(data_skew[2]),pd.Series(data_skew[3]), pd.Series(data_sum[2]),pd.Series(data_sum[3]),pd.Series(data_sum[4]), pd.Series(data_std[1]),pd.Series(data_std[2]),pd.Series(data_std[3]), pd.DataFrame(data_var[1:]).transpose(),\n",
        "            #     pd.Series(SignalMagnitudeArea), pd.Series(VectorMagnitude), pd.Series(MovementVariation), pd.Series(Energy), pd.Series(Entropy)], axis=1, ignore_index=True)\n",
        "\n",
        "            data_combined_hor = pd.concat(\n",
        "                [pd.Series(test_object), pd.Series(labels.loc[i]), pd.Series(data_formatted.loc[i][2]),pd.Series(data_formatted.loc[i][3]),pd.Series(data_formatted.loc[i][4]),\n",
        "                pd.Series(data_kurt[0]),pd.Series(data_kurt[1]),pd.Series(data_kurt[2]), pd.Series(data_mean[0]),pd.Series(data_mean[1]),pd.Series(data_mean[2]), pd.Series(data_median[0]),\n",
        "                pd.Series(data_median[1]),pd.Series(data_median[2]), pd.Series(data_min[0]),pd.Series(data_min[1]),pd.Series(data_min[2]), pd.Series(data_max[0]),pd.Series(data_max[1]),\n",
        "                pd.Series(data_max[2]), pd.Series(data_quan_25[0]),pd.Series(data_quan_25[1]),pd.Series(data_quan_25[2]),\n",
        "                pd.Series(data_quan_50[0]),pd.Series(data_quan_50[1]),pd.Series(data_quan_50[2]), pd.Series(data_quan_75[0]),pd.Series(data_quan_75[1]),pd.Series(data_quan_75[2]),\n",
        "                pd.Series(data_skew[0]),pd.Series(data_skew[1]),pd.Series(data_skew[2]), pd.Series(data_sum[0]),pd.Series(data_sum[1]),pd.Series(data_sum[2]),\n",
        "                pd.Series(data_std[0]),pd.Series(data_std[1]),pd.Series(data_std[2]), pd.DataFrame(data_var[0:]).transpose(),\n",
        "                pd.Series(SignalMagnitudeArea), pd.Series(VectorMagnitude), pd.Series(MovementVariation), pd.Series(Energy), pd.Series(Entropy)], axis=1, ignore_index=True)\n",
        "\n",
        "            data_temp = pd.concat([data_temp,data_combined_hor], ignore_index=True,axis=0)\n",
        "\n",
        "        # data_combined = pd.concat([data_combined, data_temp], ignore_index=True)\n",
        "        # print(data_combined)\n",
        "\n",
        "        data_temp.columns = ['test_object', 'label', 'AccX', 'AccY', 'AccZ', 'AccX_kurt', 'AccY_kurt', 'AccZ_kurt', 'AccX_mean', 'AccY_mean', 'AccZ_mean', 'AccX_median', 'AccY_median',\n",
        "                                'AccZ_median', 'AccX_min', 'AccY_min', 'AccZ_min', 'AccX_max', 'AccY_max', 'AccZ_max',\n",
        "                                'AccX_quan_25', 'AccY_quan_25', 'AccZ_quan_25', 'AccX_quan_50', 'AccY_quan_50', 'AccZ_quan_50',\n",
        "                                'AccX_quan_75', 'AccY_quan_75', 'AccZ_quan_75', 'AccX_skew', 'AccY_skew', 'AccZ_skew', 'AccX_sum',\n",
        "                                'AccY_sum', 'AccZ_sum', 'AccX_std', 'AccY_std', 'AccZ_std', 'AccX_var', 'AccY_var', 'AccZ_var',\n",
        "                                'SignalMagnitudeArea', 'VectorMagnitude', 'MovementVariation', 'Energy', 'Entropy']\n",
        "        filename = os.path.join(self.FeaturePath, \"features.txt\")\n",
        "        data_temp.to_csv(self.FeaturePath + \"/features.csv\", sep=',', index=False)\n",
        "\n",
        "    # def CheckDataBalance(self):\n",
        "    #     sns.set()\n",
        "    #     filename = os.path.join(self.FeaturePath, \"features.csv\")\n",
        "    #     data = pd.DataFrame(pd.read_csv(filename))\n",
        "    #     data = data.dropna(axis=0)\n",
        "    #     prob = data['label'].value_counts()\n",
        "    #     print(prob)\n",
        "    #     # prob.plot(kind='bar')\n",
        "    #     # plt.xticks(rotation=25)\n",
        "    #     # plt.xlabel('Class names')\n",
        "    #     # plt.ylabel('Counts of data points')\n",
        "    #     # plt.tight_layout()\n",
        "    #     figurename = self.PlotsPath + \"/ClassCountsPlot.png\"\n",
        "    #     # plt.savefig(figurename)\n",
        "    #     # plt.show()\n",
        "\n",
        "    #     # Create a QChart instance\n",
        "    #     chart = QChart()\n",
        "\n",
        "    #     # Create a QBarSeries for the bar chart\n",
        "    #     bar_series = QBarSeries()\n",
        "\n",
        "    #     # Create a QBarSet with data for the bars\n",
        "    #     bar_set = QBarSet(\"Behaviour Labels\")\n",
        "    #     bar_set.append(prob)\n",
        "\n",
        "    #     # Add the bar set to the bar series\n",
        "    #     bar_series.append(bar_set)\n",
        "\n",
        "    #     # Add the bar series to the chart\n",
        "    #     chart.addSeries(bar_series)\n",
        "\n",
        "    #     # Create a QBarCategoryAxis and set categories on it\n",
        "    #     axis = QBarCategoryAxis()\n",
        "    #     axis.append(prob.index.values)\n",
        "\n",
        "    #     # Set the category axis on the chart\n",
        "    #     chart.createDefaultAxes()\n",
        "    #     chart.setAxisX(axis)\n",
        "\n",
        "    #     # Create a QChartView to display the chart\n",
        "    #     chart_view = QChartView(chart)\n",
        "\n",
        "    #     # Create a QVBoxLayout and add the chart view\n",
        "    #     self.layout2.addWidget(chart_view)\n",
        "\n",
        "    # def ClassCombination(self, FeaturePath, ClassNames):\n",
        "    #     filename = FeaturePath + \"/features.txt\"\n",
        "    #     data = pd.DataFrame(pd.read_csv(filename))\n",
        "    #     data.dropna(axis=0, inplace=True)\n",
        "    #     # data.reset_index(drop=True, inplace=True)\n",
        "    #     # label = data['Label'].tolist()\n",
        "    #     # label_set = set(label)\n",
        "    #     # unique_list = list(label_set)\n",
        "    #     # print(data['Label'].unique())\n",
        "    #     # print(data.head(50))\n",
        "    #     # print(unique_list)\n",
        "    #     # print(len(data))\n",
        "    #     combination_list = ClassNames\n",
        "    #     # for i in range(len(data)):\n",
        "    #     #     if data.iat[i, 1] in combination_list:\n",
        "    #     #         data.iat[i, 1] = 'others'\n",
        "    #     for combined_label in combination_list:\n",
        "\n",
        "    #         # print(combined_label)\n",
        "    #         data.loc[(data['label'] == combined_label), 'label'] = 'Others'\n",
        "    #         # data = data.replace({'Label': {combined_label:'others'}})\n",
        "    #     # print(data['Label'].unique())\n",
        "    #     filename_combined = FeaturePath + \"/features_combined.txt\"\n",
        "    #     # print(len(data))\n",
        "    #     data.to_csv(filename_combined, sep=',', index=False)\n",
        "    #     print(\"Data cleaning is completed!\")\n",
        "\n",
        "    def ModelTraining(self):\n",
        "        #sns.set()\n",
        "       # warnings.filterwarnings(\"ignore\")\n",
        "        TrainValRatio = 0.2\n",
        "        filename = 'features.csv'\n",
        "        filepath = os.path.join(self.FeaturePath, filename)\n",
        "        data = pd.DataFrame(pd.read_csv(filepath))\n",
        "        data = data.dropna()\n",
        "        data = data.reset_index(drop=True)\n",
        "        labels = data[\"label\"]\n",
        "        features = data.drop([\"test_object\", \"label\"], axis=1).copy()\n",
        "        oversample = RandomOverSampler(sampling_strategy='minority')\n",
        "        features,labels = oversample.fit_resample(features,labels)\n",
        "\n",
        "        X_train, X_test, y_train, y_test = train_test_split(features,labels, test_size=float(TrainValRatio), random_state=12)\n",
        "\n",
        "        if self.ModelName == \"LinearRidge\":\n",
        "            model = linear_model.RidgeClassifier()\n",
        "        elif self.ModelName == \"LinearDiscriminantAnalysis\":\n",
        "            model = discriminant_analysis.LinearDiscriminantAnalysis()\n",
        "        elif self.ModelName == \"QuadraticDiscriminantAnalysis\":\n",
        "            model = discriminant_analysis.QuadraticDiscriminantAnalysis()\n",
        "        elif self.ModelName == \"SGDClassifier\":\n",
        "            model = linear_model.SGDClassifier()\n",
        "        elif self.ModelName == \"GaussianProcessClassifier\":\n",
        "            model = gaussian_process.GaussianProcessClassifier()\n",
        "        elif self.ModelName == \"GaussianNB\":\n",
        "            model = naive_bayes.GaussianNB()\n",
        "        elif self.ModelName == \"BernoulliNB\":\n",
        "            model = naive_bayes.BernoulliNB()\n",
        "        elif self.ModelName == \"DecisionTreeClassifier\":\n",
        "            model = tree.DecisionTreeClassifier()\n",
        "        elif self.ModelName == \"ExtraTreeClassifier\":\n",
        "            model = tree.ExtraTreeClassifier()\n",
        "        elif self.ModelName == \"BaggingClassifier\":\n",
        "            model = ensemble.BaggingClassifier()\n",
        "        elif self.ModelName == \"ExtraTreesClassifier\":\n",
        "            model = ensemble.ExtraTreesClassifier()\n",
        "        elif self.ModelName == \"AdaBoostClassifier\":\n",
        "            model = ensemble.AdaBoostClassifier()\n",
        "        elif self.ModelName == \"GradientBoostingClassifier\":\n",
        "            model = ensemble.GradientBoostingClassifier()\n",
        "        elif self.ModelName == \"HistGradientBoostingClassifier\":\n",
        "            model = ensemble.HistGradientBoostingClassifier()\n",
        "        elif self.ModelName == \"RandomForestClassifier\":\n",
        "            model = ensemble.RandomForestClassifier()\n",
        "        elif self.ModelName == \"SVM\":\n",
        "            model = svm.SVC()\n",
        "\n",
        "        model.fit(X_train, y_train)\n",
        "        y_pred = model.predict(X_test)\n",
        "        EvaluationMetrics = classification_report(y_test, y_pred, output_dict=True)\n",
        "        EvaluationMetrics = pd.DataFrame(EvaluationMetrics).transpose()\n",
        "\n",
        "        Metricsname = self.MetricsPath + \"/Metrics_\" + str(self.ModelName) + '_' + str(TrainValRatio) + '.csv'\n",
        "        EvaluationMetrics.to_csv(Metricsname)\n",
        "\n",
        "        modelname = self.MetricsPath + str(self.ModelName) + '_' + str(TrainValRatio) + \".sav\"\n",
        "        joblib.dump(model, modelname)\n",
        "\n",
        "        # ConfusionMatrixDisplay(model, X_test, y_test)\n",
        "\n",
        "        cm = confusion_matrix(y_test, y_pred, labels=model.classes_)\n",
        "        disp = ConfusionMatrixDisplay(confusion_matrix=cm,\n",
        "                                        display_labels=model.classes_)\n",
        "\n",
        "        disp.plot()\n",
        "\n",
        "        # ConfusionMatrixDisplay(model, X_test, y_test, normalize='true', values_format='0.3f')\n",
        "        # model.ConfusionMatrixDisplay(X_test, y_test)\n",
        "        plt.grid(False)\n",
        "        figurename = self.MetricsPath + \"/ConfusionMatrix_\" + str(self.ModelName) + '_' + str(TrainValRatio) + \".png\"\n",
        "        plt.tight_layout()\n",
        "        plt.savefig(figurename)\n",
        "        #plt.show()\n",
        "\n",
        "        print(\"Model training was completed!\")\n",
        "\n",
        "    # def BehaviorAnalysis(SamplingRate, WindowSize, StepSize, TrainedModelPath, FilePath_BehaviorAnalysis, ResultPath,   PlotsPath):\n",
        "    #     sns.set()\n",
        "    #     loaded_model = joblib.load(TrainedModelPath)\n",
        "    #     data = pd.DataFrame(pd.read_csv(FilePath_BehaviorAnalysis))\n",
        "    #     data_formatted = data.dropna(axis=0).copy()\n",
        "    #     data_combined = pd.DataFrame()\n",
        "\n",
        "    #     WindowLength = int(int(SamplingRate) * float(WindowSize))\n",
        "    #     # StepLength = int(int(SamplingRate) * float(StepSize))\n",
        "    #     StepLength = int(round(int(SamplingRate) * float(StepSize)))\n",
        "    #     range_end = len(data_formatted) - WindowLength\n",
        "\n",
        "    #     for i in range(0, range_end, StepLength):\n",
        "    #         data_selected = data_formatted[i: i + WindowLength]\n",
        "\n",
        "    #         # features\n",
        "    #         data_kurt = data_selected.kurtosis()\n",
        "    #         data_mad = data_selected.mad()\n",
        "    #         data_mean = data_selected.mean()\n",
        "    #         data_median = data_selected.median()\n",
        "    #         data_min = data_selected.min()\n",
        "    #         data_max = data_selected.max()\n",
        "    #         data_quan_25 = data_selected.quantile(q=0.25)\n",
        "    #         data_quan_50 = data_selected.quantile(q=0.5)\n",
        "    #         data_quan_75 = data_selected.quantile(q=0.75)\n",
        "    #         data_skew = data_selected.skew()\n",
        "    #         data_sum = data_selected.sum()\n",
        "    #         data_std = data_selected.std()\n",
        "    #         data_var = data_selected.var()\n",
        "\n",
        "    #         SignalMagnitudeArea = abs(data_formatted.loc[i][0]) + abs(data_formatted.loc[i][1]) + abs(data_formatted.loc[i][2])\n",
        "    #         VectorMagnitude = sqrt(abs(data_formatted.loc[i][0] + data_formatted.loc[i][1] + data_formatted.loc[i][2]))\n",
        "    #         MovementVariation = abs(data_formatted.loc[i][0] - data_formatted.loc[i + 1][0]) + abs(data_formatted.loc[i][1] - data_formatted.loc[i + 1][1]) + abs(data_formatted.loc[i][2] - data_formatted.loc[i + 1][2])\n",
        "    #         Energy = ((data_formatted.loc[i][0]) ** 2 + (data_formatted.loc[i][1]) ** 2 + (data_formatted.loc[i][2]) ** 2) ** 2\n",
        "    #         Entropy = (1 + (data_formatted.loc[i][0] + data_formatted.loc[i][1] + data_formatted.loc[i][2])) ** 2 * log(abs(1 + data_formatted.loc[i][0] + data_formatted.loc[i][1] + (data_formatted.loc[i][2]) ** 2))\n",
        "\n",
        "    #         data_combined_hor = pd.concat([pd.Series(data_formatted.loc[i]), data_kurt, data_mad,\n",
        "    #                                     data_mean, data_median, data_min, data_max, data_quan_25, data_quan_50,\n",
        "    #                                     data_quan_75, data_skew, data_sum, data_std, data_var,\n",
        "    #                                     pd.Series(SignalMagnitudeArea), pd.Series(VectorMagnitude), pd.Series(MovementVariation), pd.Series(Energy), pd.Series(Entropy)], axis=0,\n",
        "    #                                     ignore_index=True)\n",
        "\n",
        "    #         data_combined = data_combined.append(data_combined_hor, ignore_index=True)\n",
        "\n",
        "    #     data_combined.columns = ['AccX', 'AccY', 'AccZ', 'AccX_kurt', 'AccY_kurt', 'AccZ_kurt', 'AccX_mad', 'AccY_mad',\n",
        "    #                             'AccZ_mad', 'AccX_mean', 'AccY_mean', 'AccZ_mean', 'AccX_median', 'AccY_median', 'AccZ_median',\n",
        "    #                             'AccX_min', 'AccY_min', 'AccZ_min', 'AccX_max', 'AccY_max', 'AccZ_max', 'AccX_quan_25',\n",
        "    #                             'AccY_quan_25', 'AccZ_quan_25', 'AccX_quan_50', 'AccY_quan_50', 'AccZ_quan_50', 'AccX_quan_75',\n",
        "    #                             'AccY_quan_75', 'AccZ_quan_75', 'AccX_skew', 'AccY_skew', 'AccZ_skew', 'AccX_sum', 'AccY_sum',\n",
        "    #                             'AccZ_sum', 'AccX_std', 'AccY_std', 'AccZ_std', 'AccX_var', 'AccY_var', 'AccZ_var',\n",
        "    #                             'SignalMagnitudeArea', 'VectorMagnitude', 'MovementVariation', 'Energy', 'Entropy']\n",
        "    #     y_pred = loaded_model.predict(data_combined)\n",
        "    #     data_combined['y_pred'] = y_pred\n",
        "    #     data_save_path = ResultPath + \"/Predicted_Results.txt\"\n",
        "    #     data_combined.to_csv(data_save_path)\n",
        "    #     y_pred = pd.DataFrame(y_pred)\n",
        "    #     y_pred_counts = y_pred.value_counts(sort=True).copy()\n",
        "    #     y_pred_counts = y_pred_counts * float(StepSize)\n",
        "    #     TimeBudgetPath = ResultPath + '/TimeBudget.txt'\n",
        "    #     y_pred_counts.to_csv(TimeBudgetPath)\n",
        "    #     y_pred_counts = pd.DataFrame(pd.read_csv(TimeBudgetPath, index_col=0))\n",
        "    #     y_pred_counts.plot(kind='bar', legend=None)\n",
        "    #     plt.xlabel('Behavior')\n",
        "    #     plt.ylabel('Time budget (second)')\n",
        "    #     plt.tight_layout()\n",
        "    #     figurename = PlotsPath + \"/BehaviorResults.png\"\n",
        "    #     plt.savefig(figurename)\n",
        "    #     # plt.show()\n",
        "\n",
        "    #     filename = ResultPath + \"/Predicted_Results.txt\"\n",
        "    #     y_pred = pd.DataFrame(pd.read_csv(filename))\n",
        "    #     y_pred = y_pred['y_pred']\n",
        "    #     Duration_distribution = pd.DataFrame()\n",
        "    #     count = 1\n",
        "    #     for i in range(1, len(y_pred)):\n",
        "    #         if y_pred[i] == y_pred[i - 1]:\n",
        "    #             count += 1\n",
        "    #         else:\n",
        "    #             data = pd.DataFrame([y_pred[i - 1], count]).T\n",
        "    #             Duration_distribution = pd.concat([Duration_distribution, data])\n",
        "    #             count = 1\n",
        "\n",
        "    #     Duration_distribution.columns = ['Class', 'Duration']\n",
        "    #     Duration_distribution['Duration'] = Duration_distribution['Duration'] * StepSize\n",
        "    #     Duration_distribution_path = ResultPath + '/Duration_distribution.csv'\n",
        "    #     Duration_distribution.to_csv(Duration_distribution_path)\n",
        "    #     Duration_statistics = Duration_distribution.groupby('Class').agg(\n",
        "    #         {'Duration': ['mean', 'min', 'max', 'median', 'std']}).copy()\n",
        "    #     Duration_statistics_path = ResultPath + '/Duration_statistics.csv'\n",
        "    #     Duration_statistics.to_csv(Duration_statistics_path)\n",
        "\n",
        "    #     Behavior_Index = Duration_distribution['Class'].unique()\n",
        "    #     Behavior_Index_df = pd.DataFrame()\n",
        "    #     for i in Behavior_Index:\n",
        "    #         for j in Behavior_Index:\n",
        "    #             if i != j:\n",
        "    #                 data = pd.DataFrame([i, j]).T\n",
        "    #                 Behavior_Index_df = pd.concat([Behavior_Index_df, data])\n",
        "\n",
        "    #     Behavior_Index_df.columns = ['First', 'Second']\n",
        "    #     Behavior_Index_df['Frequency'] = 0\n",
        "    #     frequency = Behavior_Index_df['Frequency'].tolist()\n",
        "\n",
        "    #     for x in range(len(Duration_distribution) - 1):\n",
        "    #         for i in range(len(Behavior_Index_df)):\n",
        "    #             if Duration_distribution.iloc[x][0] == Behavior_Index_df.iloc[i][0] and Duration_distribution.iloc[x + 1][\n",
        "    #                 0] == Behavior_Index_df.iloc[i][1]:\n",
        "    #                 frequency[i] += 1\n",
        "    #     Behavior_Index_df['Frequency_acc'] = frequency\n",
        "    #     Behavior_Index_df.drop(['Frequency'], axis=1, inplace=True)\n",
        "    #     Behavior_Index_df_path = ResultPath + '/Behavior_sequence.csv'\n",
        "    #     Behavior_Index_df.to_csv(Behavior_Index_df_path)\n",
        "\n",
        "    #     print(\"Behavior analysis was completed!\")\n",
        "\n",
        "    # def exit_handler(self):\n",
        "    #     print(\"application exiting\")\n",
        "    ########################################################################"
      ],
      "metadata": {
        "id": "1SojqsGPyQtt"
      },
      "execution_count": 34,
      "outputs": []
    },
    {
      "cell_type": "code",
      "source": [
        "testt = App()\n",
        "testt.FeatureExtraction()\n",
        "testt.ModelTraining()\n",
        "testt.displayEvaluationResults()"
      ],
      "metadata": {
        "id": "9Jcb7lEcy8Uo",
        "colab": {
          "base_uri": "https://localhost:8080/",
          "height": 921
        },
        "outputId": "8d12b509-fec0-4489-a5a8-a74ef1ca91da"
      },
      "execution_count": 35,
      "outputs": [
        {
          "output_type": "stream",
          "name": "stdout",
          "text": [
            "        TimeStamp_UNIX    TimeStamp_JST   AccX   AccY   AccZ\n",
            "0        1591930223678     11:50:23.678 -0.145 -0.943 -0.023\n",
            "1        1591930223717     11:50:23.717 -0.174 -0.883 -0.003\n",
            "2        1591930223757     11:50:23.757 -0.181 -0.870  0.005\n",
            "3        1591930223797     11:50:23.797 -0.133 -0.865  0.011\n",
            "4        1591930223837     11:50:23.837 -0.112 -0.853  0.002\n",
            "...                ...              ...    ...    ...    ...\n",
            "269898   1591950069823  17:21:09.823000  0.439  0.939  0.059\n",
            "269899   1591950069863  17:21:09.863000  0.488  0.959  0.042\n",
            "269900   1591950069903  17:21:09.903000  0.466  0.966  0.067\n",
            "269901   1591950069943  17:21:09.943000  0.446  0.967  0.055\n",
            "269902   1591950069983  17:21:09.983000  0.455  0.969  0.039\n",
            "\n",
            "[269903 rows x 5 columns]\n"
          ]
        },
        {
          "output_type": "stream",
          "name": "stderr",
          "text": [
            "100%|██████████| 10796/10796 [04:56<00:00, 36.36it/s]\n"
          ]
        },
        {
          "output_type": "stream",
          "name": "stdout",
          "text": [
            "Model training was completed!\n",
            "metrics path:  /content/drive/MyDrive/Metrics/Metrics_RandomForestClassifier_0.2.csv\n",
            "av_precision:  84.2  \n",
            "av_recall:  68.7 \n",
            "av_f1score:  71.7 \n",
            "weighted_precision:  90.3 \n",
            "weighted_recall:  90.9 \n",
            "weighted_f1score:  89.7 \n",
            "overall_accuracy:  90.9\n",
            "Evaluation was completed\n"
          ]
        },
        {
          "output_type": "display_data",
          "data": {
            "text/plain": [
              "<Figure size 640x480 with 2 Axes>"
            ],
            "image/png": "[encoded data removed]"
          },
          "metadata": {}
        }
      ]
    },
    {
      "cell_type": "code",
      "source": [
        "ls"
      ],
      "metadata": {
        "colab": {
          "base_uri": "https://localhost:8080/"
        },
        "id": "z8ECjCpLkxeN",
        "outputId": "c4a32a8d-1e4a-43b6-9a76-792d4c002d85"
      },
      "execution_count": null,
      "outputs": [
        {
          "output_type": "stream",
          "name": "stdout",
          "text": [
            "\u001b[0m\u001b[01;34mdrive\u001b[0m/  \u001b[01;34msample_data\u001b[0m/\n"
          ]
        }
      ]
    },
    {
      "cell_type": "code",
      "source": [
        "cd drive"
      ],
      "metadata": {
        "id": "6uBXCSeuky8l",
        "colab": {
          "base_uri": "https://localhost:8080/"
        },
        "outputId": "4f4bf886-1440-4389-d646-69c3b146c65d"
      },
      "execution_count": null,
      "outputs": [
        {
          "output_type": "stream",
          "name": "stdout",
          "text": [
            "/content/drive\n"
          ]
        }
      ]
    },
    {
      "cell_type": "code",
      "source": [
        "cd MyDrive"
      ],
      "metadata": {
        "colab": {
          "base_uri": "https://localhost:8080/"
        },
        "id": "sCX92etpQnus",
        "outputId": "ab14c1d3-bd94-42a1-80d8-e4f6e5e47bea"
      },
      "execution_count": null,
      "outputs": [
        {
          "output_type": "stream",
          "name": "stdout",
          "text": [
            "/content/drive/MyDrive\n"
          ]
        }
      ]
    },
    {
      "cell_type": "code",
      "source": [
        "cd RawData"
      ],
      "metadata": {
        "colab": {
          "base_uri": "https://localhost:8080/"
        },
        "id": "u-2xVLRXQoy8",
        "outputId": "df0d7a34-9951-4dad-d5e7-5feb80cc7f33"
      },
      "execution_count": null,
      "outputs": [
        {
          "output_type": "stream",
          "name": "stdout",
          "text": [
            "/content/drive/MyDrive/RawData\n"
          ]
        }
      ]
    },
    {
      "cell_type": "code",
      "source": [
        "readlink 'cow2.csv'"
      ],
      "metadata": {
        "colab": {
          "base_uri": "https://localhost:8080/",
          "height": 130
        },
        "id": "Jx2PngVuQujs",
        "outputId": "1c29478c-89e1-4c41-9fc7-da4893855a34"
      },
      "execution_count": null,
      "outputs": [
        {
          "output_type": "error",
          "ename": "SyntaxError",
          "evalue": "ignored",
          "traceback": [
            "\u001b[0;36m  File \u001b[0;32m\"<ipython-input-26-3eae281bd911>\"\u001b[0;36m, line \u001b[0;32m1\u001b[0m\n\u001b[0;31m    readlink 'cow2.csv'\u001b[0m\n\u001b[0m             ^\u001b[0m\n\u001b[0;31mSyntaxError\u001b[0m\u001b[0;31m:\u001b[0m invalid syntax\n"
          ]
        }
      ]
    },
    {
      "cell_type": "code",
      "source": [],
      "metadata": {
        "id": "pG2-T5BQREUc"
      },
      "execution_count": null,
      "outputs": []
    }
  ]
}